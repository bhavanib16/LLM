{
  "cells": [
    {
      "cell_type": "code",
      "source": [
        "#Step 1: Setup and Installation\n",
        "!pip install google-cloud  # Install the required Google Cloud libraries"
      ],
      "metadata": {
        "colab": {
          "base_uri": "https://localhost:8080/"
        },
        "id": "B3YmZXnxcVeK",
        "outputId": "d18cbb78-43f4-4258-ff3c-e3c2dc047cfb",
        "collapsed": true
      },
      "id": "B3YmZXnxcVeK",
      "execution_count": 106,
      "outputs": [
        {
          "output_type": "stream",
          "name": "stdout",
          "text": [
            "Requirement already satisfied: google-cloud in /usr/local/lib/python3.11/dist-packages (0.34.0)\n"
          ]
        }
      ]
    },
    {
      "cell_type": "code",
      "source": [
        "!gcloud auth application-default login"
      ],
      "metadata": {
        "id": "Zhsem6nFXcuX",
        "colab": {
          "base_uri": "https://localhost:8080/"
        },
        "outputId": "c42b93bd-67c7-449e-e81b-1f1c90779110"
      },
      "id": "Zhsem6nFXcuX",
      "execution_count": 108,
      "outputs": [
        {
          "output_type": "stream",
          "name": "stdout",
          "text": [
            "Go to the following link in your browser, and complete the sign-in prompts:\n",
            "\n",
            "    https://accounts.google.com/o/oauth2/auth?response_type=code&client_id=764086051850-6qr4p6gpi6hn506pt8ejuq83di341hur.apps.googleusercontent.com&redirect_uri=https%3A%2F%2Fsdk.cloud.google.com%2Fapplicationdefaultauthcode.html&scope=openid+https%3A%2F%2Fwww.googleapis.com%2Fauth%2Fuserinfo.email+https%3A%2F%2Fwww.googleapis.com%2Fauth%2Fcloud-platform+https%3A%2F%2Fwww.googleapis.com%2Fauth%2Fsqlservice.login&state=AAUXvqqw7ibJBSltM18LiNFXwWZJbg&prompt=consent&token_usage=remote&access_type=offline&code_challenge=yCVOWI2Q6J0E1TZwFh71FiAt8eHTsHTkeV6c1F8wNGY&code_challenge_method=S256\n",
            "\n",
            "Once finished, enter the verification code provided in your browser: 4/0ASVgi3J6B80iSGa9Kq1p7-VKB5LHZ8YkkIql9kOA_0KNsmuvl3C-d5RpHqn--l29viWNMA\n",
            "\u001b[1;31mERROR:\u001b[0m There was a problem with web authentication.\n",
            "\u001b[1;31mERROR:\u001b[0m (gcloud.auth.application-default.login) (invalid_grant) Bad Request\n"
          ]
        }
      ]
    },
    {
      "cell_type": "code",
      "source": [
        "#Step 2: Load and Preprocess Data\n",
        "import pandas as pd\n",
        "\n",
        "# Example of loading the dataframe (assuming you already have it loaded)\n",
        "train_df = pd.read_csv(\"/content/sample_data/train_5v5GIB2.csv\")\n",
        "test_df = pd.read_csv(\"/content/sample_data/test_sample.csv\")\n",
        "\n",
        "# Preprocessing function with NaN check\n",
        "def preprocess_text(text):\n",
        "    if pd.isna(text):  # Check if the text is NaN or None\n",
        "        return \"\"\n",
        "    text = str(text)  # Ensure the text is a string\n",
        "    text = text.lower()  # Convert to lowercase\n",
        "    text = ' '.join(text.split())  # Remove extra spaces\n",
        "    return text\n",
        "\n",
        "# Apply preprocessing to the subject and body of tickets\n",
        "train_df['ticket_subject'] = train_df['ticket_subject'].apply(preprocess_text)\n",
        "train_df['ticket_body'] = train_df['ticket_body'].apply(preprocess_text)\n",
        "\n",
        "# Similarly preprocess test data\n",
        "test_df['ticket_subject'] = test_df['ticket_subject'].apply(preprocess_text)\n",
        "test_df['ticket_body'] = test_df['ticket_body'].apply(preprocess_text)\n",
        "\n",
        "# Preview the preprocessed data\n",
        "print(train_df.head())"
      ],
      "metadata": {
        "id": "G0xzAKIqYvKW",
        "colab": {
          "base_uri": "https://localhost:8080/"
        },
        "outputId": "b7c142cc-de00-4be3-a254-b19f75c6ce23"
      },
      "id": "G0xzAKIqYvKW",
      "execution_count": 111,
      "outputs": [
        {
          "output_type": "stream",
          "name": "stdout",
          "text": [
            "   ticket_ID                                     ticket_subject  \\\n",
            "0       1001    discrepancia de facturación en google workspace   \n",
            "1       1002  urgent consultation request for critical it is...   \n",
            "2       1003      consulta sobre servicios de consultoría en ti   \n",
            "3       1004                demande de mise à jour des dossiers   \n",
            "4       1005  issues with slack connection affecting team co...   \n",
            "\n",
            "                                         ticket_body            department  \\\n",
            "0  estimado equipo de soporte de ti, estoy escrib...  Billing and Payments   \n",
            "1  dear it services support team, i hope this mes...      Customer Service   \n",
            "2  estimado servicio de atención al cliente, mi n...       General Inquiry   \n",
            "3  cher service client, je vous écris pour demand...       Human Resources   \n",
            "4  dear customer support team, i am encountering ...       Product Support   \n",
            "\n",
            "       type priority language  \n",
            "0  Incident      low       es  \n",
            "1   Request     high       en  \n",
            "2   Request   medium       es  \n",
            "3    Change      low       fr  \n",
            "4   Problem   medium       en  \n"
          ]
        }
      ]
    },
    {
      "cell_type": "code",
      "source": [
        "#Step 3: Define Prompts for Google Gemini\n",
        "def generate_department_prompt(ticket_subject, ticket_body):\n",
        "    prompt = f\"\"\"\n",
        "    You are a support agent. Please classify the following IT support ticket based on its subject and body.\n",
        "\n",
        "    Ticket Subject: {ticket_subject}\n",
        "    Ticket Body: {ticket_body}\n",
        "\n",
        "    The department categories are:\n",
        "    - Technical Support\n",
        "    - Customer Service\n",
        "    - Billing and Payments\n",
        "    - Product Support\n",
        "    - IT Support\n",
        "    - Returns and Exchanges\n",
        "    - Sales and Pre-Sales\n",
        "    - Human Resources\n",
        "    - Service Outages and Maintenance\n",
        "    - General Inquiry\n",
        "\n",
        "    Please provide the department to which this ticket should be routed.\n",
        "    \"\"\"\n",
        "    return prompt\n",
        "\n",
        "# For Priority\n",
        "def generate_priority_prompt(ticket_subject, ticket_body):\n",
        "    prompt = f\"\"\"\n",
        "    Please classify the urgency of the following ticket.\n",
        "\n",
        "    Ticket Subject: {ticket_subject}\n",
        "    Ticket Body: {ticket_body}\n",
        "\n",
        "    The urgency levels are:\n",
        "    - Low\n",
        "    - Medium\n",
        "    - High\n",
        "\n",
        "    Please classify the priority level.\n",
        "    \"\"\"\n",
        "    return prompt\n",
        "\n",
        "# For Language\n",
        "def generate_language_prompt(ticket_subject, ticket_body):\n",
        "    prompt = f\"\"\"\n",
        "    Please identify the language of the following ticket.\n",
        "\n",
        "    Ticket Subject: {ticket_subject}\n",
        "    Ticket Body: {ticket_body}\n",
        "\n",
        "    Please return the language code (e.g., 'en' for English, 'de' for German, etc.).\n",
        "    \"\"\"\n",
        "    return prompt\n",
        "\n",
        "# For Type\n",
        "def generate_type_prompt(ticket_subject, ticket_body):\n",
        "    prompt = f\"\"\"\n",
        "    Please classify the type of the following ticket.\n",
        "\n",
        "    Ticket Subject: {ticket_subject}\n",
        "    Ticket Body: {ticket_body}\n",
        "\n",
        "    The ticket types are:\n",
        "    - Incident\n",
        "    - Request\n",
        "    - Problem\n",
        "    - Change\n",
        "\n",
        "    Please classify the type of the ticket.\n",
        "    \"\"\"\n",
        "    return prompt"
      ],
      "metadata": {
        "id": "-L4fBuv9EcmV",
        "outputId": "723623ea-b152-449e-e22c-3c0436029a6e",
        "colab": {
          "base_uri": "https://localhost:8080/"
        }
      },
      "id": "-L4fBuv9EcmV",
      "execution_count": 95,
      "outputs": [
        {
          "output_type": "stream",
          "name": "stderr",
          "text": [
            "Some weights of BertForSequenceClassification were not initialized from the model checkpoint at bert-base-multilingual-cased and are newly initialized: ['classifier.bias', 'classifier.weight']\n",
            "You should probably TRAIN this model on a down-stream task to be able to use it for predictions and inference.\n"
          ]
        }
      ]
    },
    {
      "cell_type": "code",
      "source": [
        "#Step 4: Make Predictions Using Google Gemini\n",
        "import openai  # Example of using OpenAI's GPT, but you would use the Gemini API if available\n",
        "\n",
        "# Set up the API key or endpoint for Google Gemini\n",
        "openai.api_key = 'your-google-gemini-api-key'\n",
        "\n",
        "# Function to query the model with a prompt\n",
        "def get_prediction_from_gemini(prompt):\n",
        "    response = openai.Completion.create(\n",
        "        model=\"gpt-4\",  # Replace with Google Gemini model ID if available\n",
        "        prompt=prompt,\n",
        "        max_tokens=50\n",
        "    )\n",
        "    return response.choices[0].text.strip()"
      ],
      "metadata": {
        "id": "LdQpHArpcpH-"
      },
      "id": "LdQpHArpcpH-",
      "execution_count": 96,
      "outputs": []
    },
    {
      "cell_type": "code",
      "source": [
        "#Step 5: Apply the Model to the Test Dataset\n",
        "# Initialize result containers\n",
        "predicted_departments = []\n",
        "predicted_priorities = []\n",
        "predicted_languages = []\n",
        "predicted_types = []\n",
        "\n",
        "# Loop through the test data and make predictions\n",
        "for _, row in test_df.iterrows():\n",
        "    subject = row['ticket_subject']\n",
        "    body = row['ticket_body']\n",
        "\n",
        "    # Generate prompts\n",
        "    department_prompt = generate_department_prompt(subject, body)\n",
        "    priority_prompt = generate_priority_prompt(subject, body)\n",
        "    language_prompt = generate_language_prompt(subject, body)\n",
        "    type_prompt = generate_type_prompt(subject, body)\n",
        "\n",
        "    # Get predictions\n",
        "    department = get_prediction_from_gemini(department_prompt)\n",
        "    priority = get_prediction_from_gemini(priority_prompt)\n",
        "    language = get_prediction_from_gemini(language_prompt)\n",
        "    ticket_type = get_prediction_from_gemini(type_prompt)\n",
        "\n",
        "    # Store predictions\n",
        "    predicted_departments.append(department)\n",
        "    predicted_priorities.append(priority)\n",
        "    predicted_languages.append(language)\n",
        "    predicted_types.append(ticket_type)\n",
        "\n",
        "# Create a results dataframe\n",
        "results_df = test_df.copy()\n",
        "results_df['predicted_department'] = predicted_departments\n",
        "results_df['predicted_priority'] = predicted_priorities\n",
        "results_df['predicted_language'] = predicted_languages\n",
        "results_df['predicted_type'] = predicted_types\n",
        "\n",
        "# Save results to CSV\n",
        "results_df.to_csv(\"predictions.csv\", index=False)"
      ],
      "metadata": {
        "id": "KIbYccLJt8XN"
      },
      "id": "KIbYccLJt8XN",
      "execution_count": 97,
      "outputs": []
    },
    {
      "cell_type": "code",
      "source": [
        "#Step 6: Evaluation\n",
        "from sklearn.metrics import accuracy_score\n",
        "\n",
        "# Assuming you have the true labels in the test dataset (e.g., 'department', 'priority', etc.)\n",
        "department_accuracy = accuracy_score(test_df['department'], predicted_departments)\n",
        "priority_accuracy = accuracy_score(test_df['priority'], predicted_priorities)\n",
        "language_accuracy = accuracy_score(test_df['language'], predicted_languages)\n",
        "type_accuracy = accuracy_score(test_df['type'], predicted_types)\n",
        "\n",
        "# Calculate final weighted score\n",
        "final_score = (0.4 * department_accuracy) + (0.3 * type_accuracy) + (0.1 * language_accuracy) + (0.2 * priority_accuracy)\n",
        "\n",
        "print(f\"Department Accuracy: {department_accuracy:.4f}\")\n",
        "print(f\"Priority Accuracy: {priority_accuracy:.4f}\")\n",
        "print(f\"Language Accuracy: {language_accuracy:.4f}\")\n",
        "print(f\"Type Accuracy: {type_accuracy:.4f}\")\n",
        "print(f\"Final Weighted Score: {final_score:.4f}\")"
      ],
      "metadata": {
        "id": "z-GRtlmfqki9"
      },
      "id": "z-GRtlmfqki9",
      "execution_count": 98,
      "outputs": []
    }
  ],
  "metadata": {
    "kernelspec": {
      "display_name": "Python 3",
      "name": "python3"
    },
    "language_info": {
      "codemirror_mode": {
        "name": "ipython",
        "version": 3
      },
      "file_extension": ".py",
      "mimetype": "text/x-python",
      "name": "python",
      "nbconvert_exporter": "python",
      "pygments_lexer": "ipython3",
      "version": "3.12.6"
    },
    "colab": {
      "provenance": [],
      "gpuType": "T4"
    },
    "accelerator": "GPU"
  },
  "nbformat": 4,
  "nbformat_minor": 5
}