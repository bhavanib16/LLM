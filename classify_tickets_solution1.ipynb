{
 "cells": [
  {
   "cell_type": "code",
   "execution_count": null,
   "id": "e4310932-11c4-46bc-a02f-84339aef29f2",
   "metadata": {},
   "outputs": [],
   "source": [
    "# Step 1: Install Required Libraries\n",
    "# First, make sure you have the necessary libraries installed:\n",
    "\n",
    "!pip install transformers datasets torch"
   ]
  },
  {
   "cell_type": "code",
   "execution_count": null,
   "id": "d2b9389f-8f6d-4183-a94b-34d1d08d5dd5",
   "metadata": {},
   "outputs": [],
   "source": [
    "# Step 2: Prepare Your Data\n",
    "# Create a CSV file for your training data with columns: ticket_id, ticket_subject, ticket_body, type, department, language, priority."
   ]
  },
  {
   "cell_type": "code",
   "execution_count": null,
   "id": "bf85290d-e38b-4d0e-98a5-1dd3a1d1e1f3",
   "metadata": {},
   "outputs": [],
   "source": [
    "# Step 3: Load and Preprocess Data\n",
    "import pandas as pd\n",
    "from datasets import Dataset\n",
    "from transformers import AutoTokenizer\n",
    "\n",
    "# Load your training data\n",
    "train_data = pd.read_csv('training_data.csv')\n",
    "\n",
    "# Convert to Hugging Face Dataset\n",
    "train_dataset = Dataset.from_pandas(train_data)\n",
    "\n",
    "# Initialize tokenizer\n",
    "tokenizer = AutoTokenizer.from_pretrained('bert-base-uncased')\n",
    "\n",
    "# Tokenize the data\n",
    "def tokenize_function(examples):\n",
    "    return tokenizer(examples['ticket_subject'] + \" \" + examples['ticket_body'], padding=\"max_length\", truncation=True)\n",
    "\n",
    "tokenized_datasets = train_dataset.map(tokenize_function, batched=True)"
   ]
  },
  {
   "cell_type": "code",
   "execution_count": null,
   "id": "9dc5610e-c337-4b15-ab6f-f359f06712c0",
   "metadata": {},
   "outputs": [],
   "source": [
    "# Step 4: Fine-Tune the Model\n",
    "from transformers import AutoModelForSequenceClassification, TrainingArguments, Trainer\n",
    "\n",
    "# Define the model\n",
    "model = AutoModelForSequenceClassification.from_pretrained('bert-base-uncased', num_labels=4)\n",
    "\n",
    "# Define training arguments\n",
    "training_args = TrainingArguments(\n",
    "    output_dir='./results',\n",
    "    evaluation_strategy=\"epoch\",\n",
    "    learning_rate=2e-5,\n",
    "    per_device_train_batch_size=8,\n",
    "    per_device_eval_batch_size=8,\n",
    "    num_train_epochs=3,\n",
    "    weight_decay=0.01,\n",
    ")\n",
    "\n",
    "# Define the Trainer\n",
    "trainer = Trainer(\n",
    "    model=model,\n",
    "    args=training_args,\n",
    "    train_dataset=tokenized_datasets,\n",
    ")\n",
    "\n",
    "# Train the model\n",
    "trainer.train()"
   ]
  },
  {
   "cell_type": "code",
   "execution_count": null,
   "id": "2cf973f4-9e49-46c6-9fcb-1e1aa135e206",
   "metadata": {},
   "outputs": [],
   "source": [
    "# Step 5: Evaluate and Predict\n",
    "# Load your test data\n",
    "test_data = pd.read_csv('test_data.csv')\n",
    "test_dataset = Dataset.from_pandas(test_data)\n",
    "\n",
    "# Tokenize the test data\n",
    "tokenized_test_datasets = test_dataset.map(tokenize_function, batched=True)\n",
    "\n",
    "# Predict\n",
    "predictions = trainer.predict(tokenized_test_datasets)\n",
    "predicted_labels = predictions.predictions.argmax(-1)\n",
    "\n",
    "# Map predictions to labels\n",
    "label_map = {0: 'Incident', 1: 'Request', 2: 'Problem', 3: 'Change'}\n",
    "predicted_labels = [label_map[label] for label in predicted_labels]\n",
    "\n",
    "# Add predictions to the test data\n",
    "test_data['predicted_type'] = predicted_labels"
   ]
  },
  {
   "cell_type": "code",
   "execution_count": null,
   "id": "80b285a9-31c0-4584-8991-39f94ef799fb",
   "metadata": {},
   "outputs": [],
   "source": [
    "# Step 6: Save the Results\n",
    "test_data.to_csv('predicted_test_data.csv', index=False)"
   ]
  }
 ],
 "metadata": {
  "kernelspec": {
   "display_name": "Python 3 (ipykernel)",
   "language": "python",
   "name": "python3"
  },
  "language_info": {
   "codemirror_mode": {
    "name": "ipython",
    "version": 3
   },
   "file_extension": ".py",
   "mimetype": "text/x-python",
   "name": "python",
   "nbconvert_exporter": "python",
   "pygments_lexer": "ipython3",
   "version": "3.12.6"
  }
 },
 "nbformat": 4,
 "nbformat_minor": 5
}
