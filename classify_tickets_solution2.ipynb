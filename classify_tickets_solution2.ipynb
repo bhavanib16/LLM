{
 "cells": [
  {
   "cell_type": "code",
   "execution_count": null,
   "id": "5ddb085e-0a69-449b-925e-cb39d9fab7b5",
   "metadata": {},
   "outputs": [],
   "source": [
    "import os\n",
    "from google_gemini import GeminiTokenizer, GeminiForSequenceClassification, TrainingArguments, Trainer\n",
    "\n",
    "# Set your API key as an environment variable\n",
    "os.environ['GEMINI_API_KEY'] = 'your_api_key_here'\n",
    "\n",
    "# Initialize tokenizer and model with the API key\n",
    "tokenizer = GeminiTokenizer.from_pretrained('gemini-base-uncased', api_key=os.environ['GEMINI_API_KEY'])\n",
    "model = GeminiForSequenceClassification.from_pretrained('gemini-base-uncased', num_labels=4, api_key=os.environ['GEMINI_API_KEY'])"
   ]
  },
  {
   "cell_type": "code",
   "execution_count": null,
   "id": "ddb20877-5009-422b-b77a-11c78544be86",
   "metadata": {},
   "outputs": [],
   "source": [
    "# Step 1: Install Required Libraries\n",
    "# First, make sure you have the necessary libraries installed:\n",
    "\n",
    "pip install google-gemini datasets torch"
   ]
  },
  {
   "cell_type": "code",
   "execution_count": null,
   "id": "83fa4a8f-5015-4d38-92ea-8256f24078b7",
   "metadata": {},
   "outputs": [],
   "source": [
    "# Step 2: Prepare Your Data\n",
    "# Create a CSV file for your training data with columns: ticket_id, ticket_subject, ticket_body, type, department, language, priority.\n"
   ]
  },
  {
   "cell_type": "code",
   "execution_count": null,
   "id": "e7e3822a-2648-4133-9851-087c66dbc183",
   "metadata": {},
   "outputs": [],
   "source": [
    "# Step 3: Load and Preprocess Data\n",
    "import pandas as pd\n",
    "from datasets import Dataset\n",
    "from google_gemini import GeminiTokenizer\n",
    "\n",
    "# Load your training data\n",
    "train_data = pd.read_csv('training_data.csv')\n",
    "\n",
    "# Convert to Dataset\n",
    "train_dataset = Dataset.from_pandas(train_data)\n",
    "\n",
    "# Initialize tokenizer\n",
    "tokenizer = GeminiTokenizer.from_pretrained('gemini-base-uncased')\n",
    "\n",
    "# Tokenize the data\n",
    "def tokenize_function(examples):\n",
    "    return tokenizer(examples['ticket_subject'] + \" \" + examples['ticket_body'], padding=\"max_length\", truncation=True)\n",
    "\n",
    "tokenized_datasets = train_dataset.map(tokenize_function, batched=True)"
   ]
  },
  {
   "cell_type": "code",
   "execution_count": null,
   "id": "89869127-e44c-457a-a347-1086cbdfff8a",
   "metadata": {},
   "outputs": [],
   "source": [
    "# Step 4: Fine-Tune the Model\n",
    "from google_gemini import GeminiForSequenceClassification, TrainingArguments, Trainer\n",
    "\n",
    "# Define the model\n",
    "model = GeminiForSequenceClassification.from_pretrained('gemini-base-uncased', num_labels=4)\n",
    "\n",
    "# Define training arguments\n",
    "training_args = TrainingArguments(\n",
    "    output_dir='./results',\n",
    "    evaluation_strategy=\"epoch\",\n",
    "    learning_rate=2e-5,\n",
    "    per_device_train_batch_size=8,\n",
    "    per_device_eval_batch_size=8,\n",
    "    num_train_epochs=3,\n",
    "    weight_decay=0.01,\n",
    ")\n",
    "\n",
    "# Define the Trainer\n",
    "trainer = Trainer(\n",
    "    model=model,\n",
    "    args=training_args,\n",
    "    train_dataset=tokenized_datasets,\n",
    ")\n",
    "\n",
    "# Train the model\n",
    "trainer.train()"
   ]
  },
  {
   "cell_type": "code",
   "execution_count": null,
   "id": "47559d70-70d3-43e5-ba26-4f8a71b72468",
   "metadata": {},
   "outputs": [],
   "source": []
  }
 ],
 "metadata": {
  "kernelspec": {
   "display_name": "Python 3 (ipykernel)",
   "language": "python",
   "name": "python3"
  },
  "language_info": {
   "codemirror_mode": {
    "name": "ipython",
    "version": 3
   },
   "file_extension": ".py",
   "mimetype": "text/x-python",
   "name": "python",
   "nbconvert_exporter": "python",
   "pygments_lexer": "ipython3",
   "version": "3.12.6"
  }
 },
 "nbformat": 4,
 "nbformat_minor": 5
}
