{
  "cells": [
    {
      "cell_type": "code",
      "source": [
        "from together import Together\n",
        "import os"
      ],
      "metadata": {
        "id": "Zhsem6nFXcuX"
      },
      "id": "Zhsem6nFXcuX",
      "execution_count": 23,
      "outputs": []
    },
    {
      "cell_type": "code",
      "source": [
        "os.environ[\"TOGETHER_API_KEY\"]=\"94d73d319b428c0b873756bfd13b99673f10a9768b352a2c76231ac4304c847a\""
      ],
      "metadata": {
        "id": "G0xzAKIqYvKW"
      },
      "id": "G0xzAKIqYvKW",
      "execution_count": 24,
      "outputs": []
    },
    {
      "cell_type": "code",
      "source": [
        "model=\"meta-llama/Meta-Llama-3.1-405B-Instruct-Turbo\""
      ],
      "metadata": {
        "id": "Fpk9WPClYyw6"
      },
      "id": "Fpk9WPClYyw6",
      "execution_count": 25,
      "outputs": []
    },
    {
      "cell_type": "code",
      "execution_count": 26,
      "id": "9f193448-327f-411e-817e-967ce164532d",
      "metadata": {
        "id": "9f193448-327f-411e-817e-967ce164532d"
      },
      "outputs": [],
      "source": [
        "# Sample customer support tickets\n",
        "ticket1 = \"\"\"\n",
        "I ordered a laptop from your store last week (Order #12345), but I received a tablet instead.\n",
        "This is unacceptable! I need the laptop for work urgently. Please resolve this immediately or I'll have to dispute the charge.\n",
        "\"\"\"\n",
        "\n",
        "ticket2 = \"\"\"\n",
        "Hello, I'm having trouble logging into my account. I've tried resetting my password, but I'm not receiving the reset email.\n",
        "Can you please help me regain access to my account? I've been a loyal customer for years and have several pending orders.\n",
        "\"\"\""
      ]
    },
    {
      "cell_type": "code",
      "execution_count": 27,
      "id": "c633b900-860e-482b-9e4d-ba846712cfc9",
      "metadata": {
        "id": "c633b900-860e-482b-9e4d-ba846712cfc9"
      },
      "outputs": [],
      "source": [
        "model=\"meta-llama/Meta-Llama-3.1-405B-Instruct-Turbo\"\n",
        "\n",
        "def classify_ticket_simple(messages,model=model):\n",
        "    client=Together()\n",
        "    response = client.chat.completions.create(\n",
        "        model=model,\n",
        "        messages=messages\n",
        "    )\n",
        "    return response.choices[0].message.content"
      ]
    },
    {
      "cell_type": "code",
      "source": [
        "messages=[\n",
        "    {\"role\": \"system\", \"content\": \"Classify the following customer support ticket into a category.\"},\n",
        "    {\"role\": \"user\", \"content\": ticket1}\n",
        "]\n",
        "result = classify_ticket_simple(messages)\n",
        "print(result)"
      ],
      "metadata": {
        "colab": {
          "base_uri": "https://localhost:8080/"
        },
        "id": "MIglsTGmZdSZ",
        "outputId": "8edaa7cb-dcb2-4d66-8320-0e7090b01850"
      },
      "id": "MIglsTGmZdSZ",
      "execution_count": 30,
      "outputs": [
        {
          "output_type": "stream",
          "name": "stdout",
          "text": [
            "I would classify this customer support ticket into the category of:\n",
            "\n",
            "\"Order Error/Incorrect Shipment\"\n",
            "\n",
            "This category is suitable as the customer received an incorrect item (tablet) instead of the ordered item (laptop), and is requesting immediate resolution to rectify the issue.\n"
          ]
        }
      ]
    }
  ],
  "metadata": {
    "kernelspec": {
      "display_name": "Python 3",
      "name": "python3"
    },
    "language_info": {
      "codemirror_mode": {
        "name": "ipython",
        "version": 3
      },
      "file_extension": ".py",
      "mimetype": "text/x-python",
      "name": "python",
      "nbconvert_exporter": "python",
      "pygments_lexer": "ipython3",
      "version": "3.12.6"
    },
    "colab": {
      "provenance": [],
      "gpuType": "T4"
    },
    "accelerator": "GPU"
  },
  "nbformat": 4,
  "nbformat_minor": 5
}