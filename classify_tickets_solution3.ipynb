{
 "cells": [
  {
   "cell_type": "code",
   "execution_count": null,
   "id": "02fb4687-2cf3-415b-b28d-a7969ea677f0",
   "metadata": {},
   "outputs": [],
   "source": [
    "import pandas as pd\n",
    "import google_gemini\n",
    "\n",
    "# Initialize the Google Gemini client\n",
    "client = google_gemini.Client(api_key='YOUR_API_KEY')\n",
    "\n",
    "# Load the training dataset from Excel\n",
    "training_data = pd.read_excel('training_dataset.xlsx')\n",
    "\n",
    "# Convert the training data to a list of dictionaries\n",
    "training_data_list = training_data.to_dict(orient='records')\n",
    "\n",
    "# Train the model using few-shot learning\n",
    "client.train_model(training_data_list)\n",
    "\n",
    "# Load the test dataset from Excel\n",
    "test_data = pd.read_excel('test_dataset.xlsx')\n",
    "\n",
    "# Convert the test data to a list of dictionaries\n",
    "test_data_list = test_data.to_dict(orient='records')\n",
    "\n",
    "# Function to classify tickets\n",
    "def classify_tickets(tickets):\n",
    "    classified_tickets = []\n",
    "    for ticket in tickets:\n",
    "        response = client.classify_ticket(\n",
    "            subject=ticket['ticket_subject'],\n",
    "            body=ticket['ticket_body']\n",
    "        )\n",
    "        classified_tickets.append({\n",
    "            \"ticket_id\": ticket['ticket_id'],\n",
    "            \"type\": response['type'],\n",
    "            \"department\": response['department'],\n",
    "            \"language\": response['language'],\n",
    "            \"priority\": response['priority']\n",
    "        })\n",
    "    return classified_tickets\n",
    "\n",
    "# Classify the test dataset\n",
    "classified_tickets = classify_tickets(test_data_list)\n",
    "\n",
    "# Convert the classified tickets to a DataFrame\n",
    "classified_tickets_df = pd.DataFrame(classified_tickets)\n",
    "\n",
    "# Save the classified tickets to a new Excel file\n",
    "classified_tickets_df.to_excel('classified_tickets.xlsx', index=False)\n",
    "\n",
    "# Print the classified tickets\n",
    "print(classified_tickets_df)"
   ]
  }
 ],
 "metadata": {
  "kernelspec": {
   "display_name": "Python 3 (ipykernel)",
   "language": "python",
   "name": "python3"
  },
  "language_info": {
   "codemirror_mode": {
    "name": "ipython",
    "version": 3
   },
   "file_extension": ".py",
   "mimetype": "text/x-python",
   "name": "python",
   "nbconvert_exporter": "python",
   "pygments_lexer": "ipython3",
   "version": "3.12.6"
  }
 },
 "nbformat": 4,
 "nbformat_minor": 5
}
